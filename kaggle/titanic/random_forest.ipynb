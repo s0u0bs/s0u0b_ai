{
 "cells": [
  {
   "cell_type": "code",
   "execution_count": 21,
   "metadata": {
    "collapsed": true,
    "pycharm": {
     "name": "#%%\n"
    }
   },
   "outputs": [
    {
     "name": "stderr",
     "output_type": "stream",
     "text": [
      "C:\\Users\\s0u0b\\AppData\\Local\\Temp\\ipykernel_16372\\3649915432.py:5: FutureWarning: Dropping of nuisance columns in DataFrame reductions (with 'numeric_only=None') is deprecated; in a future version this will raise TypeError.  Select only valid columns before calling the reduction.\n",
      "  train_median = train_data_frame.median()\n"
     ]
    }
   ],
   "source": [
    "import pandas as pd\n",
    "\n",
    "train_data_frame = pd.read_csv(\"train.csv\", encoding=\"utf-8\")\n",
    "test_data_frame = pd.read_csv(\"test.csv\", encoding=\"utf-8\")\n",
    "train_median = train_data_frame.median()\n",
    "train_data_frame = train_data_frame.fillna(train_median)\n",
    "test_data_frame = test_data_frame.fillna(train_median)"
   ]
  },
  {
   "cell_type": "code",
   "execution_count": 22,
   "outputs": [],
   "source": [
    "most_embarked = train_data_frame['Embarked'].value_counts().idxmax()\n",
    "train_data_frame['Embarked'] = train_data_frame['Embarked'].fillna(most_embarked)\n",
    "test_data_frame['Embarked'] = test_data_frame['Embarked'].fillna(most_embarked)\n",
    "train_data_frame['Pclass_one_hot_encode'] = train_data_frame['Pclass']\n",
    "test_data_frame['Pclass_one_hot_encode'] = test_data_frame['Pclass']"
   ],
   "metadata": {
    "collapsed": false,
    "pycharm": {
     "name": "#%%\n"
    }
   }
  },
  {
   "cell_type": "code",
   "execution_count": 23,
   "outputs": [],
   "source": [
    "def get_tittle(full_name_with_tittle):\n",
    "    keep_tittle = [\"Mr\", 'Miss', 'Mrs', 'Master', 'Dr', 'Rev']\n",
    "    tittle = full_name_with_tittle.split(\",\")[-1].split(\".\")[0].strip()\n",
    "    if tittle in keep_tittle:\n",
    "        return tittle\n",
    "    return None\n",
    "\n",
    "\n",
    "train_data_frame['Name'] = train_data_frame['Name'].apply(get_tittle)\n",
    "test_data_frame['Name'] = test_data_frame['Name'].apply(get_tittle)"
   ],
   "metadata": {
    "collapsed": false,
    "pycharm": {
     "name": "#%%\n"
    }
   }
  },
  {
   "cell_type": "code",
   "execution_count": 24,
   "outputs": [],
   "source": [
    "from sklearn.preprocessing import LabelEncoder\n",
    "\n",
    "labelEncoder = LabelEncoder()\n",
    "train_data_frame[\"Sex\"] = labelEncoder.fit_transform(train_data_frame[\"Sex\"])\n",
    "test_data_frame[\"Sex\"] = labelEncoder.fit_transform(test_data_frame[\"Sex\"])"
   ],
   "metadata": {
    "collapsed": false,
    "pycharm": {
     "name": "#%%\n"
    }
   }
  },
  {
   "cell_type": "code",
   "execution_count": 25,
   "outputs": [],
   "source": [
    "train = pd.get_dummies(train_data_frame, columns=[\"Name\", \"Sex\",'Embarked','Pclass_one_hot_encode'])\n",
    "test = pd.get_dummies(test_data_frame, columns=[\"Name\", \"Sex\",'Embarked','Pclass_one_hot_encode'])"
   ],
   "metadata": {
    "collapsed": false,
    "pycharm": {
     "name": "#%%\n"
    }
   }
  },
  {
   "cell_type": "code",
   "execution_count": 26,
   "outputs": [],
   "source": [
    "train = train.drop([\"PassengerId\", \"Ticket\", \"Cabin\"], axis=1)\n",
    "test = test.drop([\"Ticket\", \"Cabin\"], axis=1)"
   ],
   "metadata": {
    "collapsed": false,
    "pycharm": {
     "name": "#%%\n"
    }
   }
  },
  {
   "cell_type": "code",
   "execution_count": 27,
   "outputs": [],
   "source": [
    "x_train = train.drop(\"Survived\", axis=1)\n",
    "y_train = train[\"Survived\"]\n",
    "x_test = test.drop(\"PassengerId\", axis=1)\n",
    "y_test = test[\"PassengerId\"]"
   ],
   "metadata": {
    "collapsed": false,
    "pycharm": {
     "name": "#%%\n"
    }
   }
  },
  {
   "cell_type": "code",
   "execution_count": 28,
   "outputs": [
    {
     "data": {
      "text/plain": "0.8272159800249688"
     },
     "execution_count": 28,
     "metadata": {},
     "output_type": "execute_result"
    }
   ],
   "source": [
    "from sklearn.ensemble import RandomForestClassifier\n",
    "from sklearn.model_selection import cross_val_score\n",
    "import numpy as np\n",
    "\n",
    "random_forest_classifier = RandomForestClassifier(n_estimators=36, max_depth=8)\n",
    "scores = cross_val_score(random_forest_classifier, x_train, y_train, cv=10, n_jobs=4)\n",
    "np.average(scores)"
   ],
   "metadata": {
    "collapsed": false,
    "pycharm": {
     "name": "#%%\n"
    }
   }
  },
  {
   "cell_type": "code",
   "execution_count": 29,
   "outputs": [],
   "source": [
    "random_forest_classifier = RandomForestClassifier(n_estimators=36, max_depth=8)\n",
    "random_forest_classifier.fit(x_train, y_train)\n",
    "pre = random_forest_classifier.predict(x_test)\n",
    "result = pd.DataFrame({\"PassengerId\": y_test, \"Survived\": pre})\n",
    "result.to_csv(\"submission.csv\", encoding=\"utf-8\", index=False)"
   ],
   "metadata": {
    "collapsed": false,
    "pycharm": {
     "name": "#%%\n"
    }
   }
  },
  {
   "cell_type": "code",
   "execution_count": 30,
   "outputs": [
    {
     "data": {
      "text/plain": "{'Pclass': 6.4695995566626845,\n 'Age': 11.404044881659598,\n 'SibSp': 5.154170191462713,\n 'Parch': 2.9692385118795497,\n 'Fare': 14.927877232767308,\n 'Name_Dr': 0.21882277882161677,\n 'Name_Master': 1.5617197234144402,\n 'Name_Miss': 1.7806634085422979,\n 'Name_Mr': 10.752844074858839,\n 'Name_Mrs': 4.462572623072295,\n 'Name_Rev': 0.23537684755733723,\n 'Sex_0': 15.653136991916911,\n 'Sex_1': 13.31129262238754,\n 'Embarked_C': 1.2755101518581677,\n 'Embarked_Q': 0.7364730264011109,\n 'Embarked_S': 1.8090303788085422,\n 'Pclass_one_hot_encode_1': 1.672385697748336,\n 'Pclass_one_hot_encode_2': 1.110844217230238,\n 'Pclass_one_hot_encode_3': 4.494397082950487}"
     },
     "execution_count": 30,
     "metadata": {},
     "output_type": "execute_result"
    }
   ],
   "source": [
    "key_list = list(x_train.columns)\n",
    "value_list = random_forest_classifier.feature_importances_ * 100\n",
    "\n",
    "dict_from_list = dict(zip(key_list, value_list))\n",
    "dict_from_list"
   ],
   "metadata": {
    "collapsed": false,
    "pycharm": {
     "name": "#%%\n"
    }
   }
  },
  {
   "cell_type": "code",
   "execution_count": 30,
   "outputs": [],
   "source": [],
   "metadata": {
    "collapsed": false,
    "pycharm": {
     "name": "#%%\n"
    }
   }
  }
 ],
 "metadata": {
  "kernelspec": {
   "display_name": "Python 3",
   "language": "python",
   "name": "python3"
  },
  "language_info": {
   "codemirror_mode": {
    "name": "ipython",
    "version": 2
   },
   "file_extension": ".py",
   "mimetype": "text/x-python",
   "name": "python",
   "nbconvert_exporter": "python",
   "pygments_lexer": "ipython2",
   "version": "2.7.6"
  }
 },
 "nbformat": 4,
 "nbformat_minor": 0
}